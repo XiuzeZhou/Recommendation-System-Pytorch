{
 "cells": [
  {
   "cell_type": "code",
   "execution_count": 1,
   "metadata": {},
   "outputs": [],
   "source": [
    "import torch\n",
    "import numpy as np\n",
    "\n",
    "from utils import Dataset, setup_seed\n",
    "from train import train\n",
    "from models import NeuMF, ConvNCF"
   ]
  },
  {
   "cell_type": "code",
   "execution_count": 2,
   "metadata": {},
   "outputs": [
    {
     "name": "stdout",
     "output_type": "stream",
     "text": [
      "Dataset: #user=518, #item=3488, #train_pairs=45654, #test_pairs=518\n"
     ]
    }
   ],
   "source": [
    "dataset_path = 'data/lastfm'\n",
    "\n",
    "# Load the dataset\n",
    "dataset = Dataset(dataset_path)\n",
    "train_mat, test_ratings, test_negatives = dataset.trainMatrix, dataset.testRatings, dataset.testNegatives\n",
    "print('Dataset: #user=%d, #item=%d, #train_pairs=%d, #test_pairs=%d' \n",
    "      % (dataset.num_users, dataset.num_items, train_mat.nnz, len(test_ratings)))\n",
    "\n",
    "mat = train_mat.todense()\n",
    "mat = 1 * (mat > 0)\n",
    "if type(mat) is np.matrix: mat = np.asarray(mat)"
   ]
  },
  {
   "cell_type": "code",
   "execution_count": 3,
   "metadata": {},
   "outputs": [],
   "source": [
    "device = torch.device('cuda' if torch.cuda.is_available() else 'cpu')\n",
    "\n",
    "users_num, items_num = dataset.num_users, dataset.num_items"
   ]
  },
  {
   "cell_type": "markdown",
   "metadata": {},
   "source": [
    "### NeuMF"
   ]
  },
  {
   "cell_type": "code",
   "execution_count": 3,
   "metadata": {},
   "outputs": [
    {
     "name": "stdout",
     "output_type": "stream",
     "text": [
      "Init: HR = 0.1081, NDCG = 0.0481\n",
      "epoch=0, loss=0.4089, HR=0.6236, NDCG=0.4315\n",
      "epoch=1, loss=0.2865, HR=0.7104, NDCG=0.4912\n",
      "epoch=2, loss=0.2903, HR=0.7317, NDCG=0.5109\n",
      "epoch=3, loss=0.2774, HR=0.7452, NDCG=0.5183\n",
      "epoch=4, loss=0.2432, HR=0.7394, NDCG=0.5303\n",
      "epoch=5, loss=0.2278, HR=0.7413, NDCG=0.5149\n",
      "End. Best HR = 0.7452, NDCG = 0.5183. \n",
      "----------------------------------------------------------------------------------------------------\n",
      "Init: HR = 0.1062, NDCG = 0.0485\n",
      "epoch=0, loss=0.4099, HR=0.5946, NDCG=0.4199\n",
      "epoch=1, loss=0.3833, HR=0.6988, NDCG=0.4988\n",
      "epoch=2, loss=0.2993, HR=0.7278, NDCG=0.5185\n",
      "epoch=3, loss=0.2588, HR=0.7181, NDCG=0.5185\n",
      "epoch=4, loss=0.2576, HR=0.7413, NDCG=0.5222\n",
      "epoch=5, loss=0.2026, HR=0.7162, NDCG=0.5134\n",
      "epoch=6, loss=0.2105, HR=0.7317, NDCG=0.5029\n",
      "End. Best HR = 0.7413, NDCG = 0.5222. \n",
      "----------------------------------------------------------------------------------------------------\n",
      "Init: HR = 0.0927, NDCG = 0.0389\n",
      "epoch=0, loss=0.3876, HR=0.6255, NDCG=0.4256\n",
      "epoch=1, loss=0.3307, HR=0.7162, NDCG=0.5035\n",
      "epoch=2, loss=0.3257, HR=0.7220, NDCG=0.5210\n",
      "epoch=3, loss=0.2327, HR=0.7297, NDCG=0.5154\n",
      "epoch=4, loss=0.2527, HR=0.7471, NDCG=0.5177\n",
      "epoch=5, loss=0.2551, HR=0.7510, NDCG=0.5166\n",
      "epoch=6, loss=0.2567, HR=0.7336, NDCG=0.5214\n",
      "epoch=7, loss=0.2389, HR=0.7394, NDCG=0.5196\n",
      "End. Best HR = 0.7510, NDCG = 0.5166. \n",
      "----------------------------------------------------------------------------------------------------\n",
      "Init: HR = 0.0888, NDCG = 0.0368\n",
      "epoch=0, loss=0.4071, HR=0.6100, NDCG=0.4186\n",
      "epoch=1, loss=0.3123, HR=0.7375, NDCG=0.5277\n",
      "epoch=2, loss=0.2832, HR=0.7606, NDCG=0.5361\n",
      "epoch=3, loss=0.2710, HR=0.7432, NDCG=0.5244\n",
      "epoch=4, loss=0.2512, HR=0.7201, NDCG=0.5157\n",
      "End. Best HR = 0.7606, NDCG = 0.5361. \n",
      "----------------------------------------------------------------------------------------------------\n",
      "lr:  0.01 embedding_size:  16 num_layers:  1\n",
      "HR: 0.7495 NDCG: 0.5233\n",
      "====================================================================================================\n"
     ]
    }
   ],
   "source": [
    "lr = 0.01\n",
    "weight_decay = 1e-6\n",
    "embedding_size = 16\n",
    "num_layers = 1\n",
    "epochs = 32\n",
    "batch_size = 1024\n",
    "mode = 'hr'\n",
    "topK = 10\n",
    "\n",
    "hr_list, ndcg_list = [], []\n",
    "for seed in range(4):\n",
    "    setup_seed(seed)\n",
    "    model = NeuMF(users_num, items_num, embedding_size, num_layers)\n",
    "    model = model.to(device)\n",
    "    hr, ndcg = train(model, lr, weight_decay, test_ratings, test_negatives, topK, mat, epochs, batch_size, mode, device)\n",
    "    hr_list.append(hr)\n",
    "    ndcg_list.append(ndcg)\n",
    "    \n",
    "print('lr: ', lr, 'embedding_size: ', embedding_size, 'num_layers: ', num_layers)\n",
    "print('HR: %.4f' %np.mean(hr_list), 'NDCG: %.4f' %np.mean(ndcg_list))\n",
    "print('=' * 100)"
   ]
  },
  {
   "cell_type": "markdown",
   "metadata": {},
   "source": [
    "### ConvNCF"
   ]
  },
  {
   "cell_type": "code",
   "execution_count": 5,
   "metadata": {},
   "outputs": [
    {
     "name": "stdout",
     "output_type": "stream",
     "text": [
      "Init: HR = 0.0907, NDCG = 0.0426\n",
      "epoch=0, loss=0.4397, HR=0.4788, NDCG=0.3214\n",
      "epoch=1, loss=0.4433, HR=0.4884, NDCG=0.3245\n",
      "epoch=2, loss=0.4208, HR=0.5598, NDCG=0.3581\n",
      "epoch=3, loss=0.3794, HR=0.6120, NDCG=0.3942\n",
      "epoch=4, loss=0.3591, HR=0.6544, NDCG=0.4407\n",
      "epoch=5, loss=0.3344, HR=0.6506, NDCG=0.4437\n",
      "epoch=6, loss=0.2805, HR=0.6429, NDCG=0.4380\n",
      "End. Best HR = 0.6544, NDCG = 0.4407. \n",
      "----------------------------------------------------------------------------------------------------\n",
      "Init: HR = 0.1236, NDCG = 0.0605\n",
      "epoch=0, loss=0.5147, HR=0.1834, NDCG=0.0958\n",
      "epoch=1, loss=0.5232, HR=0.1544, NDCG=0.0936\n",
      "epoch=2, loss=0.4774, HR=0.0772, NDCG=0.0444\n",
      "epoch=3, loss=0.5033, HR=0.0000, NDCG=0.0000\n",
      "End. Best HR = 0.1544, NDCG = 0.0936. \n",
      "----------------------------------------------------------------------------------------------------\n",
      "Init: HR = 0.1293, NDCG = 0.0646\n",
      "epoch=0, loss=0.4603, HR=0.4788, NDCG=0.3054\n",
      "epoch=1, loss=0.4522, HR=0.4768, NDCG=0.3422\n",
      "epoch=2, loss=0.4405, HR=0.4961, NDCG=0.3296\n",
      "epoch=3, loss=0.4120, HR=0.5869, NDCG=0.3992\n",
      "epoch=4, loss=0.3810, HR=0.6371, NDCG=0.4225\n",
      "epoch=5, loss=0.3624, HR=0.6873, NDCG=0.4730\n",
      "epoch=6, loss=0.3313, HR=0.6795, NDCG=0.4993\n",
      "epoch=7, loss=0.3042, HR=0.6776, NDCG=0.4778\n",
      "End. Best HR = 0.6873, NDCG = 0.4730. \n",
      "----------------------------------------------------------------------------------------------------\n",
      "Init: HR = 0.1216, NDCG = 0.0548\n",
      "epoch=0, loss=0.5099, HR=0.2181, NDCG=0.1019\n",
      "epoch=1, loss=0.4717, HR=0.4691, NDCG=0.2929\n",
      "epoch=2, loss=0.4541, HR=0.4826, NDCG=0.2997\n",
      "epoch=3, loss=0.4227, HR=0.5502, NDCG=0.3728\n",
      "epoch=4, loss=0.4081, HR=0.5869, NDCG=0.4085\n",
      "epoch=5, loss=0.3786, HR=0.6255, NDCG=0.4236\n",
      "epoch=6, loss=0.3623, HR=0.6448, NDCG=0.4452\n",
      "epoch=7, loss=0.3354, HR=0.6583, NDCG=0.4515\n",
      "epoch=8, loss=0.2698, HR=0.6564, NDCG=0.4449\n",
      "epoch=9, loss=0.2627, HR=0.6583, NDCG=0.4216\n",
      "End. Best HR = 0.6583, NDCG = 0.4515. \n",
      "----------------------------------------------------------------------------------------------------\n",
      "lr:  0.01 embedding_size:  64\n",
      "HR: 0.5386 NDCG: 0.3647\n",
      "====================================================================================================\n"
     ]
    }
   ],
   "source": [
    "lr = 0.01\n",
    "weight_decay = 1e-6\n",
    "embedding_size = 64\n",
    "epochs = 32\n",
    "batch_size = 1024\n",
    "mode = 'hr'\n",
    "topK = 10\n",
    "\n",
    "hr_list, ndcg_list = [], []\n",
    "for seed in range(4):\n",
    "    setup_seed(seed)\n",
    "    model = ConvNCF(users_num=users_num, items_num=items_num, embedding_size=embedding_size, device=device)\n",
    "    model = model.to(device)\n",
    "    hr, ndcg = train(model, lr, weight_decay, test_ratings, test_negatives, topK, mat, epochs, batch_size, mode, device)\n",
    "    hr_list.append(hr)\n",
    "    ndcg_list.append(ndcg)\n",
    "    \n",
    "print('lr: ', lr, 'embedding_size: ', embedding_size)\n",
    "print('HR: %.4f' %np.mean(hr_list), 'NDCG: %.4f' %np.mean(ndcg_list))\n",
    "print('=' * 100)"
   ]
  },
  {
   "cell_type": "code",
   "execution_count": null,
   "metadata": {},
   "outputs": [],
   "source": []
  }
 ],
 "metadata": {
  "kernelspec": {
   "display_name": "torch_11",
   "language": "python",
   "name": "torch_11"
  },
  "language_info": {
   "codemirror_mode": {
    "name": "ipython",
    "version": 3
   },
   "file_extension": ".py",
   "mimetype": "text/x-python",
   "name": "python",
   "nbconvert_exporter": "python",
   "pygments_lexer": "ipython3",
   "version": "3.7.0"
  }
 },
 "nbformat": 4,
 "nbformat_minor": 2
}
